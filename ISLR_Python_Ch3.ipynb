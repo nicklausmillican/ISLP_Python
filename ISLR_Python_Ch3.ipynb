{
  "nbformat": 4,
  "nbformat_minor": 0,
  "metadata": {
    "colab": {
      "provenance": [],
      "authorship_tag": "ABX9TyMhWkvk3iwNRKijkM50HctF",
      "include_colab_link": true
    },
    "kernelspec": {
      "name": "python3",
      "display_name": "Python 3"
    },
    "language_info": {
      "name": "python"
    }
  },
  "cells": [
    {
      "cell_type": "markdown",
      "metadata": {
        "id": "view-in-github",
        "colab_type": "text"
      },
      "source": [
        "<a href=\"https://colab.research.google.com/github/nicklausmillican/ISLR_Python/blob/main/ISLR_Python_Ch3.ipynb\" target=\"_parent\"><img src=\"https://colab.research.google.com/assets/colab-badge.svg\" alt=\"Open In Colab\"/></a>"
      ]
    },
    {
      "cell_type": "markdown",
      "source": [
        "# Chapter 3"
      ],
      "metadata": {
        "id": "v06IlZa-LQKM"
      }
    },
    {
      "cell_type": "markdown",
      "source": [
        "## Conceptual"
      ],
      "metadata": {
        "id": "VaDsnW3QCYIz"
      }
    },
    {
      "cell_type": "markdown",
      "source": [
        "### Question 1\n",
        "Describe the null hypotheses to which the p-values given in **Table 3.4** correspond. Explain what conclusions you can draw based on these p-values. Your explanation should be phrased in terms of $sales$, $TV$, $radio$, and $newspaper$, rather than in terms of the coefcients of the linear model.\n",
        "\n",
        "#### Answer\n",
        "First, I'm going to recreate **Table 3.4**.\n",
        "\n",
        "\n",
        "| Term       | Coefficient | Std. error | t-statistic | p-value  |\n",
        "|------------|-------------|------------|-------------|----------|\n",
        "| Intercept  | 2.939       | 0.3119     | 9.42        | < 0.0001 |\n",
        "| TV         | 0.046       | 0.0014     | 32.81       | < 0.0001 |\n",
        "| radio      | 0.189       | 0.0086     | 21.89       | < 0.0001 |\n",
        "| newspaper  | -0.001      | 0.0059     | -0.18       | 0.8599   |\n",
        "\n",
        "Now for the null-hypotheses.  The first thing to recognize is that the values from this table are taken from multiple regression.  \n",
        "\n",
        "Next, it's helpful to get a sense of null-hypothesis signifcance testing.  The basic idea is that we detail what we think a probability distribution of our outcome variable would look like if it was not realted to the explanatory variable(s) in question.  We can call this a *null* distribution; the \"null hypothesis\" is the hypothesis that the null distribution accurately describes the data.  If it does, we retain the null hypothesis; if it does not, we reject it.\n",
        "\n",
        "Thus, a generic phrasing for each p-value is something like:\n",
        ">\"After accounting for _____, _____, and _____, there is no association between $sales$ and _____.\"\n",
        "\n",
        "For example, let's consider $TV$:\n",
        ">\"After accounting for $radio$, $newspaper$, and the $Intercept$, there is no association between $sales$ and $TV$.\"\n",
        "\n",
        "As for the conclusions based on p-values, these can also follow a generic script:\n",
        ">\"After accounting for _____, _____, and _____, the null hypothesis that the association between $sales$ and _____ being due to chance is _____% probable.\"\n",
        "\n",
        "So again for $TV$:\n",
        ">\"After accounting for $radio$, $newspaper$, and the $Intercept$, the null hypothesis that the association between $sales$ and $TV$ being due to chance is < 0.0001% probable.\""
      ],
      "metadata": {
        "id": "jDnvvJi7CcJz"
      }
    }
  ]
}