{
  "nbformat": 4,
  "nbformat_minor": 0,
  "metadata": {
    "colab": {
      "provenance": [],
      "authorship_tag": "ABX9TyPVobfzfdZ9udj5F5ZmHc7N",
      "include_colab_link": true
    },
    "kernelspec": {
      "name": "python3",
      "display_name": "Python 3"
    },
    "language_info": {
      "name": "python"
    }
  },
  "cells": [
    {
      "cell_type": "markdown",
      "metadata": {
        "id": "view-in-github",
        "colab_type": "text"
      },
      "source": [
        "<a href=\"https://colab.research.google.com/github/nicklausmillican/ISLP_Python/blob/main/ISLP_Python_Ch4.ipynb\" target=\"_parent\"><img src=\"https://colab.research.google.com/assets/colab-badge.svg\" alt=\"Open In Colab\"/></a>"
      ]
    },
    {
      "cell_type": "markdown",
      "source": [
        "# Chapter 4"
      ],
      "metadata": {
        "id": "v06IlZa-LQKM"
      }
    },
    {
      "cell_type": "markdown",
      "source": [
        "## Conceptual"
      ],
      "metadata": {
        "id": "VaDsnW3QCYIz"
      }
    },
    {
      "cell_type": "markdown",
      "source": [
        "### Question 1\n",
        "Using a little bit of algebra, prove that (4.2)\n",
        "$$p(X) = \\frac{e^{X\\beta}}{1 + e^{X\\beta}}$$\n",
        "is equivalent to (4.3).\n",
        "$$\\frac{p(X)}{1-p(X)} = e^{X\\beta}$$\n",
        "\n",
        "(NOTE: The book uses slightly different exponents, $\\beta_0 + \\beta_1 X$, but use this abbreviated version for ease.)\n",
        "\n",
        "In other words, the logistic function representation and logit representation for the logistic regression model are equivalent.\n",
        "\n",
        "#### Answer\n",
        "Let's start with the definition of odds.  For ease, I'll use $p$ instead of $p(X)$.\n",
        "\n",
        "$$odds = \\frac{p}{1-p}$$\n",
        "\n",
        "The logistic function is the *log odds*, which is equal to our linear model.\n",
        "\n",
        "$$log odds = log(\\frac{p}{1-p}) = X\\beta$$.\n",
        "\n",
        "We can retrieve equation (4.3) by exponentiating both sides\n",
        "\n",
        "$$e^{log(\\frac{p}{1-p})} = \\frac{p}{1-p} = e^{X\\beta}$$\n",
        "\n",
        "Now we must solve for $p$ to get equation (4.2).\n",
        "\n",
        "$$p = e^{X\\beta}(1-p) = e^{X\\beta} - pe^{X\\beta} \\rightarrow$$\n",
        "\n",
        "$$p + pe^{X\\beta} = p(1 + X\\beta) \\rightarrow$$\n",
        "\n",
        "$$p = \\frac{e^{X\\beta}}{1 + e^{X\\beta}}$$\n",
        "\n"
      ],
      "metadata": {
        "id": "jDnvvJi7CcJz"
      }
    }
  ]
}